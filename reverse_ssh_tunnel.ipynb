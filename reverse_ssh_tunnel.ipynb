{
  "nbformat": 4,
  "nbformat_minor": 0,
  "metadata": {
    "colab": {
      "name": "reverse_ssh_tunnel.ipynb",
      "provenance": [],
      "include_colab_link": true
    },
    "kernelspec": {
      "name": "python3",
      "display_name": "Python 3"
    }
  },
  "cells": [
    {
      "cell_type": "markdown",
      "metadata": {
        "id": "view-in-github",
        "colab_type": "text"
      },
      "source": [
        "<a href=\"https://colab.research.google.com/github/chalsall/colab_reverse_ssh/blob/master/reverse_ssh_tunnel.ipynb\" target=\"_parent\"><img src=\"https://colab.research.google.com/assets/colab-badge.svg\" alt=\"Open In Colab\"/></a>"
      ]
    },
    {
      "cell_type": "markdown",
      "metadata": {
        "id": "XBbMiK09EYLj",
        "colab_type": "text"
      },
      "source": [
        "# Reverse SSH Tunnels for Colab\n",
        "\n",
        "This Notebook can be used to set up a reverse SSH tunnel from a Google Colaboratory instance out to a properly configured public facing server.  This then allows remote SSH sessions back into said instance for \"rich interactive shell\" (Bash) access.\n",
        "\n",
        "> **Important:**  This series of steps -- which results in allowing remote shell access -- is intended to be used to facilitiate software development and deployment testing, which is often much more easily done when a full Bash shell (and all the associated tools) are available to the developer.  ***Please do not abuse this capability.***\n",
        "\n",
        "Notes:\n",
        "\n",
        "*   This Notebook assumes a moderate level of proficiency with Linux command-line operations.\n",
        "\n",
        "*   Shell log-in access to a \"public facing\" Linux server with a routable IP and an open SSH port is required.\n",
        "\n",
        "*   Run each section below in order.\n",
        "\n",
        "---\n",
        "\n",
        "**This Notebook is Copyright 2019 Chris Halsall (chalsall).  All rights reserved.**\n",
        "\n",
        "Released under the GPL license version 3.0 or later.  http://www.gnu.org/copyleft/gpl.html\n",
        "\n",
        "Part of the GPU to 72 Project.  https://www.gpu72.com/  Where geeks do useless things because they make great driving problems...\n",
        "\n",
        "**This software is provided with no warrantees.  Use at your own risk.**\n"
      ]
    },
    {
      "cell_type": "markdown",
      "metadata": {
        "id": "cdBg_EOl_Tl9",
        "colab_type": "text"
      },
      "source": [
        "# Section 1: Generate keys for outgoing Reverse Tunnel.\n",
        "Generates the public/private keys for the outgoing SSH reverse tunnel.\n",
        "\n",
        "After running this section, the user **must next copy-and-paste the contents** of .ssh/id_rsa.pub (the last line printed when this section is run; starts with \"`ssh-rsa`\") into an appropriately configured Linux server with a \"public facing\" IP address, and an exposed (read: non-firewalled) SSH port (non-standard is, of course, recommended).\n",
        "\n",
        "Place the contents into the **\"`.ssh/authorized_keys`\"** file of a non-privialged user's home directory.  Ensure the file permissions are correct (**\"`chmod go-rwx`\"** for the **\"`.ssh`\"** directory, and **\"`chmod go-wx`\"** for the **\"`authorized_keys`\"** file).  Note this file can contain multiple keys, allowing for mutiple reverse tunnels from mutiple Colab instances."
      ]
    },
    {
      "cell_type": "code",
      "metadata": {
        "id": "pAGtD36eGmPA",
        "colab_type": "code",
        "colab": {}
      },
      "source": [
        "%cd ~\n",
        "\n",
        "# Used later, but might as well do this now.  Change the password if so desired (no real security advantage to do so).\n",
        "!echo -e \"linux\\nlinux\" | passwd root\n",
        "\n",
        "!rm -rf ssh .ssh\n",
        "!mkdir .ssh\n",
        "!chmod go-rwx .ssh\n",
        "!ln -s .ssh ssh   # Interestingly, the Files viewer to the left won't show files starting with a \".\"\n",
        "\n",
        "!ssh-keygen -t rsa -f .ssh/id_rsa -N \"\"\n",
        "\n",
        "!ls -lah .ssh\n",
        "!echo\n",
        "!echo \"Copy and paste the following line into the tunnel target server.\"\n",
        "!cat .ssh/id_rsa.pub"
      ],
      "execution_count": 0,
      "outputs": []
    },
    {
      "cell_type": "markdown",
      "metadata": {
        "id": "iET9BLI_S5J2",
        "colab_type": "text"
      },
      "source": [
        "# Section 2: Bring up Reverse Tunnel\n",
        "\n",
        "After running this section (with appropriate changes, as detailed below), a \"reverse ssh tunnel\" should be created between the local Colab instance and the public facing server configured appropriately above.\n",
        "\n",
        "Change the following to be appropriate:\n",
        "*   [TUNNEL_PORT] -- available port number to be SSHed into from remote server.\n",
        "\n",
        "*   [USER_NAME] -- Username on remote server with above key in the authorized_keys file.\n",
        "\n",
        "*   [REMOTE_SERVER] -- Remote SSH Server DNS name (or IP).\n",
        "\n",
        "*   [REMOTE_SSH_PORT] -- Remote SSH Server's listening SSH port (often 22).\n",
        "\n",
        "After this successfully runs, you should be able to run \"`ps auxw | grep sshd | grep [USERNAME]`\" and see an sshd process handling the tunnel traffic."
      ]
    },
    {
      "cell_type": "code",
      "metadata": {
        "id": "N6KFHjvdG8Je",
        "colab_type": "code",
        "colab": {}
      },
      "source": [
        "!ssh -N -T -p [SSH_PORT] -R[TUNNEL_PORT]:localhost:22 [USER_NAME]@[REMOTE_SERVER] -o StrictHostKeyChecking=no -i .ssh/id_rsa </dev/null >/dev/null 2>/dev/null &\n",
        "!echo \"Hopefully tunnelled...  Run `ps` on remote server to confirm.\""
      ],
      "execution_count": 0,
      "outputs": []
    },
    {
      "cell_type": "markdown",
      "metadata": {
        "id": "kOwARn3eQAf8",
        "colab_type": "text"
      },
      "source": [
        "# Section 3: Build standalone OpenSSH server.\n",
        "Downloads, builds and installs a standalone OpenSSH server from source.  This takes a few minutes.\n",
        "\n",
        "Note: This step can be eliminated by only downloading a precompiled server from a public facing server.  But this demonstrates how to do it from the definitive sourse."
      ]
    },
    {
      "cell_type": "code",
      "metadata": {
        "id": "pZ1WLq0oExNb",
        "colab_type": "code",
        "colab": {}
      },
      "source": [
        "# Adds the needed user and group for the SSH server.\n",
        "!groupadd -g 99 sshd\n",
        "!useradd -u 99 -g 99 -c sshd -d / sshd\n",
        "!cat /etc/passwd | grep sshd\n",
        "!cat /etc/group | grep sshd\n",
        "\n",
        "%cd ~\n",
        "!mkdir ~/openssh\n",
        "%cd ~/openssh\n",
        "!wget -qO openssh.tar.gz https://mirror.csclub.uwaterloo.ca/pub/OpenBSD/OpenSSH/portable/openssh-8.0p1.tar.gz\n",
        "!tar -xzf openssh.tar.gz\n",
        "%cd openssh-8.0p1\n",
        "#!autoconf\n",
        "!./configure\n",
        "!make\n",
        "!make install\n",
        "\n",
        "!echo -e \"\\n\\nBuild and install complete.\\n\\n\"\n",
        "\n",
        "!echo \"PermitRootLogin yes\" >> /usr/local/etc/sshd_config\n",
        "!cat /usr/local/etc/sshd_config #  For a human review of the config file..."
      ],
      "execution_count": 0,
      "outputs": []
    },
    {
      "cell_type": "markdown",
      "metadata": {
        "id": "FcJHm203WTdV",
        "colab_type": "text"
      },
      "source": [
        "# Section 4: Launch standalone OpenSSH server.\n",
        "\n",
        "Running this section launches the OpenSSH server, which detaches from the console to become a \"daemon\".\n",
        "\n",
        "If you're encountering difficulties in the next section (#5), try adding the \"-ddd\" options to the server for deep debugging output."
      ]
    },
    {
      "cell_type": "code",
      "metadata": {
        "id": "zPWKmcFeFit7",
        "colab_type": "code",
        "colab": {}
      },
      "source": [
        "!which sshd\n",
        "!/usr/local/sbin/sshd # -ddd"
      ],
      "execution_count": 0,
      "outputs": []
    },
    {
      "cell_type": "markdown",
      "metadata": {
        "id": "02wEEg5oWxZX",
        "colab_type": "text"
      },
      "source": [
        "#Section 5: Remotely log into this instance.\n",
        "\n",
        "Last steps:\n",
        "\n",
        "*   From the command line of the SSH reverse tunnel server, run **\"`ssh -p [TUNNEL_PORT] root`\"**.  The user on the remote machine running this command does not have to be the same as that used to accept the SSH tunnel connection.\n",
        "\n",
        "*   You should be prompted with **\"`root@localhost's password:`\"**.  Enter **\"linux\"** (or whatever you set the password to be above).\n",
        "\n",
        "*   You should next be greeted with a bash shell command-line prompt.\n",
        "\n",
        "**Note that unless debugging is enabled in Section 4, this Notebook should be free to have additional sessons added and run as desired, just like a regular Notebook.**\n",
        "\n",
        "***The only difference is you also have a fully interactive Bash shell to also work with at the same time...***"
      ]
    }
  ]
}